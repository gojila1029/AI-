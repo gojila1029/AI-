{
  "nbformat": 4,
  "nbformat_minor": 0,
  "metadata": {
    "colab": {
      "name": "Untitled0.ipynb",
      "provenance": [],
      "authorship_tag": "ABX9TyN7Xr0UZsht2jED95l0mZ3e",
      "include_colab_link": true
    },
    "kernelspec": {
      "name": "python3",
      "display_name": "Python 3"
    }
  },
  "cells": [
    {
      "cell_type": "markdown",
      "metadata": {
        "id": "view-in-github",
        "colab_type": "text"
      },
      "source": [
        "<a href=\"https://colab.research.google.com/github/gojila1029/AI-/blob/master/1%EC%A3%BC%EC%B0%A8%20%EA%B3%BC%EC%A0%9C.ipynb\" target=\"_parent\"><img src=\"https://colab.research.google.com/assets/colab-badge.svg\" alt=\"Open In Colab\"/></a>"
      ]
    },
    {
      "cell_type": "markdown",
      "metadata": {
        "id": "TdynnR8Xhk6P",
        "colab_type": "text"
      },
      "source": [
        "# **인공지능 사관학교 프리코스 과제목차**\n",
        "**1주차 과제(2020.05.20)**\n",
        "\n",
        "##1. 음성인식 인공지능을 이용한 소프트웨어\n",
        "    1.1 KRISP:\n",
        "       1.1.1 KRISP 란?\n",
        "           전화받거나 어떠한 음성인식 APP(Recorder, Vocal Mixer etc)을 이용할때,\n",
        "           인공지능의 딥러닝을 응용하여 인간의 음성데이터만을 학습, 분리시켜 주변\n",
        "           환경에서 들려오는 소음이 input되지 않도록 해주는 AI software 이다.\n",
        "\n",
        "           아직까지는 Desktop 의 Windows 나 IOS 같은 operating system에서만 지원된다.\n",
        "\n",
        "       1.1.2 사용하는 목적:\n",
        "           1.1.2.1 이 소프트웨어가 지원하는 noise cancellation 을 이용하여 콜센터에서도 많이 사용되고 있습니다.\n",
        "           1.1.2.2 Online Conference를 할때도 주변의 소음방지 및 소음 대책을 위하여도 많이 쓰여지고 있습니다.\n",
        "\n",
        "    1.2 Source:\n",
        "        [링크 텍스트](https://www.krisp.ai)\n",
        "       \n",
        "##2. 인공지능을 이용한 언어 학습 소프트웨어\n",
        "    2.1 LINGVIST:\n",
        "       2.1.1 LINGVIST 란?\n",
        "             2013년도에 메이트 뮈욘텔이라는 공동창립자가 자기의 수학적인 스킬을 언어로 표현하기 위해서 \n",
        "             개발되어졌으나, 나중에는 각 나라의 언어를 보다 쉽게 익힐수 있도록\n",
        "             인공지능을 도입하여 개선시켜나갔다.\n",
        "\n",
        "             인공지능이 머신러닝을 이용해 정통적인 방식으로 200시간정도를 걸쳐 한 나라의 언어를 익히며, \n",
        "             이 소프트웨어를 이용하는 유저가 효율적으로 언어를 익힐수 있도록 유저가 배우고자 하는 언어가 쓰여진 \n",
        "             뉴스 기사, 책 등을 통해서 많이 쓰이는 단어, 문법패턴, 어휘력 등의 데이터를 딥러닝을 통해 학습하여,\n",
        "             보다 효율적인 교육 과정을 제공해준다.\n",
        "\n",
        "             현재는  영어, 스페인어, 프랑스어, 독일어, 러시아어, 그리고 에스토니아 어를 이 소프트웨어를 통해\n",
        "             학습이 가능하여졌다.\n",
        "\n",
        "        2.1.2 사용하는 목적:\n",
        "            2.1.2.1 맞춤형 온라인 언어교육 플렛폼\n",
        "\n",
        "        2.1.3 Source(소스):\n",
        "            [LINGVIST](https://www.zdnet.com/article/quickly-learn-a-new-language-with-ai-powered-lingvist/)\n",
        "\n",
        "##3. 인공지능을 이용한 이미지 인식 인터페이스\n",
        "    3.1 CLOUD VISION API\n",
        "       3.1.1 COULD VISION API 란?\n",
        "            구글의 이미지 인식 인공지능 인터페이스이다.\n",
        "\n",
        "            주로 이미지의 특징을 데이터화 하여 인공지능으로 하여금 분석하게 만든다음\n",
        "            데이터를 조직화하여 쓸데없는 데이터는 제하고 쓸모있는것만 따로 학습하게 한다.\n",
        "            다음 단계로, 머신러닝의 Classification Algorithm과 학습한 데이터를 가지고 예측 이미지를\n",
        "            빌드업 한다.\n",
        "\n",
        "            이런식으로 여러 이미지의 데이터를 통하여 Classification Algorithm을 보다 업그레이드시켜,\n",
        "            효율적으로 이미지를 인식하게 된다.\n",
        "\n",
        "            이 인터페이스의 특징은, 이미지에 있는 안면 자동 인식, 50개가 넘는 언어로 쓰여진 텍스트 인식등이 있다.\n",
        "\n",
        "       3.1.2 사용 목적:\n",
        "           3.1.2.1 이 API를 이용하여 이미지안에 있는 관심있는 제품을 찾고 이미지로 검색\n",
        "           3.1.2.2 문서 분류, 보강, 추출 등\n",
        "\n",
        "       3.1.3 Source:\n",
        "          [링크 텍스트](https://www.addepto.com/using-artificial-intelligence-ai-for-image-recognition)\n",
        "\n",
        "##4. 자율 주행 Vehicle을 위한 인공지능\n",
        "    4.1 Autopilot AI of Tesla:\n",
        "       4.1.1 Autopilot AI 이란?\n",
        "            자동 주행의 핵심인 인공지능으로 원래는 항공기, 선박, 우주선의 motion trajectory 를 파악하고\n",
        "            조종사를 서포트해주는 semi- autopilot system 에서 꾸준히 발전되어 현재의 Autonomous Vehicle에서 \n",
        "            사용되어지는 인공지능이 되었다.\n",
        "\n",
        "       4.1.2 Autopilot AI를 이루는 핵심 기술들:\n",
        "             4.1.2.1 Hardware:\n",
        "                     Semo-conductive의 특성을 가진 실리콘으로 제작된 칩이며 완전한 자율주행 소프트웨어의 핵심이다.\n",
        "                     주로 설계도의 평면도 및 타이밍, 그리고 전력 분석을 실행한다.\n",
        "                     테슬라에서 보다 혹독하고 광범위하고 랜덤한 테스트를 거쳐서 Hardware의 기능성을 확인하여 \n",
        "                     기술적인 결함이 없는지 검증하였다.\n",
        "\n",
        "                     보다 중점적인 퍼포먼스는 성능의 최적화 및 절전이며, 이런것들을 위하여 드라이버와 컴파일러를\n",
        "                     구현하는데에도 쓰여지고 있다.\n",
        "\n",
        "              4.1.2.2 Neural Networks(신경망들)\n",
        "                      테슬라는 딥 러닝을 통하여 문제를 지각하고 컨트롤하는데에 초점을 맞추어 Neural Networks를 학습시켜나갔다.\n",
        "                      이 신경망들은 자율주행 차량에 달려있는 카메라와 센서를 통해 거리, 건물등의 레이아웃을 산출\n",
        "                      하는데 있어 큰 역할을 한다.\n",
        "\n",
        "                      신경망들의 충분한 트레이닝이 완료되면 자율주행의 핵심 알고리즘을 응용하여 자율주행 차량이\n",
        "                      어디로 움직여야하는지에 대한 괘도를 예측하여 산출하는데에도 핵심적인 역할을 한다.\n",
        "          \n",
        "        4.1.3 Source\n",
        "            [링크 텍스트](https://www.tesla.com/autopilotAI)\n",
        "\n",
        "            \n",
        "\n",
        "\n",
        "\n"
      ]
    },
    {
      "cell_type": "markdown",
      "metadata": {
        "id": "iB_Q3HVK22b6",
        "colab_type": "text"
      },
      "source": [
        ""
      ]
    }
  ]
}